{
 "cells": [
  {
   "cell_type": "code",
   "execution_count": 46,
   "metadata": {},
   "outputs": [],
   "source": [
    "import requests\n",
    "from requests import get\n",
    "from bs4 import BeautifulSoup\n",
    "import pandas as pd\n",
    "import numpy as np\n"
   ]
  },
  {
   "cell_type": "code",
   "execution_count": 47,
   "metadata": {},
   "outputs": [],
   "source": [
    "page=requests.get(\"https://www.icc-cricket.com/rankings/mens/team-rankings/odi\")"
   ]
  },
  {
   "cell_type": "code",
   "execution_count": 48,
   "metadata": {},
   "outputs": [],
   "source": [
    "soup=BeautifulSoup(page.text,'html.parser')"
   ]
  },
  {
   "cell_type": "code",
   "execution_count": 49,
   "metadata": {},
   "outputs": [],
   "source": [
    "team=[]\n",
    "matches=[]\n",
    "ratings=[]\n",
    "points=[]"
   ]
  },
  {
   "cell_type": "code",
   "execution_count": 50,
   "metadata": {},
   "outputs": [],
   "source": [
    "one=soup.find_all('tr', attrs={'class','rankings-block__banner'})\n"
   ]
  },
  {
   "cell_type": "code",
   "execution_count": 51,
   "metadata": {
    "scrolled": true
   },
   "outputs": [
    {
     "data": {
      "text/plain": [
       "[<tr class=\"rankings-block__banner\">\n",
       " <td class=\"rankings-block__banner--pos\">1</td>\n",
       " <td class=\"rankings-block__banner--team-name\">\n",
       " <span class=\"flag-30 rankings-block__banner--flag ENG\"></span>\n",
       " <span class=\"u-hide-phablet\">England</span>\n",
       " <span class=\"u-show-phablet\">ENG</span>\n",
       " </td>\n",
       " <td class=\"rankings-block__banner--matches\">44</td>\n",
       " <td class=\"rankings-block__banner--points\">5,405</td>\n",
       " <td class=\"rankings-block__banner--rating u-text-right\">\n",
       "                             123\n",
       "                             <span class=\"circle-branding circle-branding--top\"></span>\n",
       " <span class=\"circle-branding circle-branding--bottom\"></span>\n",
       " </td>\n",
       " </tr>]"
      ]
     },
     "execution_count": 51,
     "metadata": {},
     "output_type": "execute_result"
    }
   ],
   "source": [
    "one"
   ]
  },
  {
   "cell_type": "code",
   "execution_count": 52,
   "metadata": {},
   "outputs": [],
   "source": [
    "first=one[0]"
   ]
  },
  {
   "cell_type": "code",
   "execution_count": 53,
   "metadata": {},
   "outputs": [
    {
     "data": {
      "text/plain": [
       "'EnglandENG'"
      ]
     },
     "execution_count": 53,
     "metadata": {},
     "output_type": "execute_result"
    }
   ],
   "source": [
    "t=first.find(\"td\",class_=\"rankings-block__banner--team-name\").text.replace('\\n',\"\")\n",
    "t"
   ]
  },
  {
   "cell_type": "code",
   "execution_count": 54,
   "metadata": {},
   "outputs": [],
   "source": [
    "t=t.replace(\"ENG\",\"\")\n",
    "team.append(t)\n"
   ]
  },
  {
   "cell_type": "code",
   "execution_count": 55,
   "metadata": {},
   "outputs": [],
   "source": [
    "m=first.find(\"td\",class_=\"rankings-block__banner--matches\").text.replace('\\n',\"\")\n",
    "matches.append(m)"
   ]
  },
  {
   "cell_type": "code",
   "execution_count": 56,
   "metadata": {},
   "outputs": [],
   "source": [
    "p=first.find(\"td\",class_=\"rankings-block__banner--points\").text.replace('\\n',\"\")\n",
    "points.append(p)"
   ]
  },
  {
   "cell_type": "code",
   "execution_count": 57,
   "metadata": {},
   "outputs": [
    {
     "data": {
      "text/plain": [
       "'                            123                            '"
      ]
     },
     "execution_count": 57,
     "metadata": {},
     "output_type": "execute_result"
    }
   ],
   "source": [
    "r=first.find(\"td\",class_=\"rankings-block__banner--rating\").text.replace('\\n',\"\")\n",
    "r"
   ]
  },
  {
   "cell_type": "code",
   "execution_count": 58,
   "metadata": {},
   "outputs": [
    {
     "name": "stdout",
     "output_type": "stream",
     "text": [
      "123\n"
     ]
    }
   ],
   "source": [
    "# Python3 code to remove whitespace \n",
    "def remove(string): \n",
    "    return \"\".join(string.split()) \n",
    "      \n",
    "# Driver Prog\n",
    "print(remove(r)) "
   ]
  },
  {
   "cell_type": "code",
   "execution_count": 59,
   "metadata": {},
   "outputs": [],
   "source": [
    "ratings.append(remove(r))"
   ]
  },
  {
   "cell_type": "code",
   "execution_count": 60,
   "metadata": {},
   "outputs": [],
   "source": [
    "other_teams=soup.find_all(\"tr\", class_=\"table-body\")"
   ]
  },
  {
   "cell_type": "code",
   "execution_count": 61,
   "metadata": {},
   "outputs": [
    {
     "data": {
      "text/plain": [
       "[<tr class=\"table-body\" data-team-id=\"14\">\n",
       " <td class=\"table-body__cell table-body__cell--position u-text-right\">2</td>\n",
       " <td class=\"table-body__cell rankings-table__team\">\n",
       " <span class=\"flag-15 table-body_logo IND\"></span>\n",
       " <span class=\"u-hide-phablet\">India</span>\n",
       " <span class=\"u-show-phablet\">IND</span>\n",
       " </td>\n",
       " <td class=\"table-body__cell u-center-text\">52</td>\n",
       " <td class=\"table-body__cell u-center-text\">6,102</td>\n",
       " <td class=\"table-body__cell u-text-right rating\">117</td>\n",
       " </tr>,\n",
       " <tr class=\"table-body\" data-team-id=\"16\">\n",
       " <td class=\"table-body__cell table-body__cell--position u-text-right\">3</td>\n",
       " <td class=\"table-body__cell rankings-table__team\">\n",
       " <span class=\"flag-15 table-body_logo NZ\"></span>\n",
       " <span class=\"u-hide-phablet\">New Zealand</span>\n",
       " <span class=\"u-show-phablet\">NZ</span>\n",
       " </td>\n",
       " <td class=\"table-body__cell u-center-text\">32</td>\n",
       " <td class=\"table-body__cell u-center-text\">3,716</td>\n",
       " <td class=\"table-body__cell u-text-right rating\">116</td>\n",
       " </tr>,\n",
       " <tr class=\"table-body\" data-team-id=\"15\">\n",
       " <td class=\"table-body__cell table-body__cell--position u-text-right\">4</td>\n",
       " <td class=\"table-body__cell rankings-table__team\">\n",
       " <span class=\"flag-15 table-body_logo AUS\"></span>\n",
       " <span class=\"u-hide-phablet\">Australia</span>\n",
       " <span class=\"u-show-phablet\">AUS</span>\n",
       " </td>\n",
       " <td class=\"table-body__cell u-center-text\">39</td>\n",
       " <td class=\"table-body__cell u-center-text\">4,344</td>\n",
       " <td class=\"table-body__cell u-text-right rating\">111</td>\n",
       " </tr>,\n",
       " <tr class=\"table-body\" data-team-id=\"19\">\n",
       " <td class=\"table-body__cell table-body__cell--position u-text-right\">5</td>\n",
       " <td class=\"table-body__cell rankings-table__team\">\n",
       " <span class=\"flag-15 table-body_logo SA\"></span>\n",
       " <span class=\"u-hide-phablet\">South Africa</span>\n",
       " <span class=\"u-show-phablet\">SA</span>\n",
       " </td>\n",
       " <td class=\"table-body__cell u-center-text\">31</td>\n",
       " <td class=\"table-body__cell u-center-text\">3,345</td>\n",
       " <td class=\"table-body__cell u-text-right rating\">108</td>\n",
       " </tr>,\n",
       " <tr class=\"table-body\" data-team-id=\"20\">\n",
       " <td class=\"table-body__cell table-body__cell--position u-text-right\">6</td>\n",
       " <td class=\"table-body__cell rankings-table__team\">\n",
       " <span class=\"flag-15 table-body_logo PAK\"></span>\n",
       " <span class=\"u-hide-phablet\">Pakistan</span>\n",
       " <span class=\"u-show-phablet\">PAK</span>\n",
       " </td>\n",
       " <td class=\"table-body__cell u-center-text\">35</td>\n",
       " <td class=\"table-body__cell u-center-text\">3,490</td>\n",
       " <td class=\"table-body__cell u-text-right rating\">100</td>\n",
       " </tr>,\n",
       " <tr class=\"table-body\" data-team-id=\"22\">\n",
       " <td class=\"table-body__cell table-body__cell--position u-text-right\">7</td>\n",
       " <td class=\"table-body__cell rankings-table__team\">\n",
       " <span class=\"flag-15 table-body_logo BAN\"></span>\n",
       " <span class=\"u-hide-phablet\">Bangladesh</span>\n",
       " <span class=\"u-show-phablet\">BAN</span>\n",
       " </td>\n",
       " <td class=\"table-body__cell u-center-text\">37</td>\n",
       " <td class=\"table-body__cell u-center-text\">3,366</td>\n",
       " <td class=\"table-body__cell u-text-right rating\">91</td>\n",
       " </tr>,\n",
       " <tr class=\"table-body\" data-team-id=\"13\">\n",
       " <td class=\"table-body__cell table-body__cell--position u-text-right\">8</td>\n",
       " <td class=\"table-body__cell rankings-table__team\">\n",
       " <span class=\"flag-15 table-body_logo SL\"></span>\n",
       " <span class=\"u-hide-phablet\">Sri Lanka</span>\n",
       " <span class=\"u-show-phablet\">SL</span>\n",
       " </td>\n",
       " <td class=\"table-body__cell u-center-text\">39</td>\n",
       " <td class=\"table-body__cell u-center-text\">3,297</td>\n",
       " <td class=\"table-body__cell u-text-right rating\">85</td>\n",
       " </tr>,\n",
       " <tr class=\"table-body\" data-team-id=\"21\">\n",
       " <td class=\"table-body__cell table-body__cell--position u-text-right\">9</td>\n",
       " <td class=\"table-body__cell rankings-table__team\">\n",
       " <span class=\"flag-15 table-body_logo WI\"></span>\n",
       " <span class=\"u-hide-phablet\">West Indies</span>\n",
       " <span class=\"u-show-phablet\">WI</span>\n",
       " </td>\n",
       " <td class=\"table-body__cell u-center-text\">46</td>\n",
       " <td class=\"table-body__cell u-center-text\">3,402</td>\n",
       " <td class=\"table-body__cell u-text-right rating\">74</td>\n",
       " </tr>,\n",
       " <tr class=\"table-body\" data-team-id=\"17\">\n",
       " <td class=\"table-body__cell table-body__cell--position u-text-right\">10</td>\n",
       " <td class=\"table-body__cell rankings-table__team\">\n",
       " <span class=\"flag-15 table-body_logo AFG\"></span>\n",
       " <span class=\"u-hide-phablet\">Afghanistan</span>\n",
       " <span class=\"u-show-phablet\">AFG</span>\n",
       " </td>\n",
       " <td class=\"table-body__cell u-center-text\">31</td>\n",
       " <td class=\"table-body__cell u-center-text\">1,844</td>\n",
       " <td class=\"table-body__cell u-text-right rating\">59</td>\n",
       " </tr>,\n",
       " <tr class=\"table-body\" data-team-id=\"12\">\n",
       " <td class=\"table-body__cell table-body__cell--position u-text-right\">11</td>\n",
       " <td class=\"table-body__cell rankings-table__team\">\n",
       " <span class=\"flag-15 table-body_logo IRE\"></span>\n",
       " <span class=\"u-hide-phablet\">Ireland</span>\n",
       " <span class=\"u-show-phablet\">IRE</span>\n",
       " </td>\n",
       " <td class=\"table-body__cell u-center-text\">29</td>\n",
       " <td class=\"table-body__cell u-center-text\">1,316</td>\n",
       " <td class=\"table-body__cell u-text-right rating\">45</td>\n",
       " </tr>,\n",
       " <tr class=\"table-body\" data-team-id=\"68\">\n",
       " <td class=\"table-body__cell table-body__cell--position u-text-right\">12</td>\n",
       " <td class=\"table-body__cell rankings-table__team\">\n",
       " <span class=\"flag-15 table-body_logo NED\"></span>\n",
       " <span class=\"u-hide-phablet\">Netherlands</span>\n",
       " <span class=\"u-show-phablet\">NED</span>\n",
       " </td>\n",
       " <td class=\"table-body__cell u-center-text\">5</td>\n",
       " <td class=\"table-body__cell u-center-text\">222</td>\n",
       " <td class=\"table-body__cell u-text-right rating\">44</td>\n",
       " </tr>,\n",
       " <tr class=\"table-body\" data-team-id=\"18\">\n",
       " <td class=\"table-body__cell table-body__cell--position u-text-right\">13</td>\n",
       " <td class=\"table-body__cell rankings-table__team\">\n",
       " <span class=\"flag-15 table-body_logo ZIM\"></span>\n",
       " <span class=\"u-hide-phablet\">Zimbabwe</span>\n",
       " <span class=\"u-show-phablet\">ZIM</span>\n",
       " </td>\n",
       " <td class=\"table-body__cell u-center-text\">27</td>\n",
       " <td class=\"table-body__cell u-center-text\">1,121</td>\n",
       " <td class=\"table-body__cell u-text-right rating\">42</td>\n",
       " </tr>,\n",
       " <tr class=\"table-body\" data-team-id=\"128\">\n",
       " <td class=\"table-body__cell table-body__cell--position u-text-right\">14</td>\n",
       " <td class=\"table-body__cell rankings-table__team\">\n",
       " <span class=\"flag-15 table-body_logo OMA\"></span>\n",
       " <span class=\"u-hide-phablet\">Oman</span>\n",
       " <span class=\"u-show-phablet\">OMA</span>\n",
       " </td>\n",
       " <td class=\"table-body__cell u-center-text\">12</td>\n",
       " <td class=\"table-body__cell u-center-text\">479</td>\n",
       " <td class=\"table-body__cell u-text-right rating\">40</td>\n",
       " </tr>,\n",
       " <tr class=\"table-body\" data-team-id=\"69\">\n",
       " <td class=\"table-body__cell table-body__cell--position u-text-right\">15</td>\n",
       " <td class=\"table-body__cell rankings-table__team\">\n",
       " <span class=\"flag-15 table-body_logo SCO\"></span>\n",
       " <span class=\"u-hide-phablet\">Scotland</span>\n",
       " <span class=\"u-show-phablet\">SCO</span>\n",
       " </td>\n",
       " <td class=\"table-body__cell u-center-text\">16</td>\n",
       " <td class=\"table-body__cell u-center-text\">419</td>\n",
       " <td class=\"table-body__cell u-text-right rating\">26</td>\n",
       " </tr>,\n",
       " <tr class=\"table-body\" data-team-id=\"155\">\n",
       " <td class=\"table-body__cell table-body__cell--position u-text-right\">16</td>\n",
       " <td class=\"table-body__cell rankings-table__team\">\n",
       " <span class=\"flag-15 table-body_logo UAE\"></span>\n",
       " <span class=\"u-hide-phablet\">UAE</span>\n",
       " <span class=\"u-show-phablet\">UAE</span>\n",
       " </td>\n",
       " <td class=\"table-body__cell u-center-text\">17</td>\n",
       " <td class=\"table-body__cell u-center-text\">360</td>\n",
       " <td class=\"table-body__cell u-text-right rating\">21</td>\n",
       " </tr>,\n",
       " <tr class=\"table-body\" data-team-id=\"125\">\n",
       " <td class=\"table-body__cell table-body__cell--position u-text-right\">17</td>\n",
       " <td class=\"table-body__cell rankings-table__team\">\n",
       " <span class=\"flag-15 table-body_logo NEP\"></span>\n",
       " <span class=\"u-hide-phablet\">Nepal</span>\n",
       " <span class=\"u-show-phablet\">NEP</span>\n",
       " </td>\n",
       " <td class=\"table-body__cell u-center-text\">9</td>\n",
       " <td class=\"table-body__cell u-center-text\">161</td>\n",
       " <td class=\"table-body__cell u-text-right rating\">18</td>\n",
       " </tr>,\n",
       " <tr class=\"table-body\" data-team-id=\"124\">\n",
       " <td class=\"table-body__cell table-body__cell--position u-text-right\">18</td>\n",
       " <td class=\"table-body__cell rankings-table__team\">\n",
       " <span class=\"flag-15 table-body_logo NAM\"></span>\n",
       " <span class=\"u-hide-phablet\">Namibia</span>\n",
       " <span class=\"u-show-phablet\">NAM</span>\n",
       " </td>\n",
       " <td class=\"table-body__cell u-center-text\">9</td>\n",
       " <td class=\"table-body__cell u-center-text\">152</td>\n",
       " <td class=\"table-body__cell u-text-right rating\">17</td>\n",
       " </tr>,\n",
       " <tr class=\"table-body\" data-team-id=\"157\">\n",
       " <td class=\"table-body__cell table-body__cell--position u-text-right\">19</td>\n",
       " <td class=\"table-body__cell rankings-table__team\">\n",
       " <span class=\"flag-15 table-body_logo USA\"></span>\n",
       " <span class=\"u-hide-phablet\">United States</span>\n",
       " <span class=\"u-show-phablet\">USA</span>\n",
       " </td>\n",
       " <td class=\"table-body__cell u-center-text\">14</td>\n",
       " <td class=\"table-body__cell u-center-text\">185</td>\n",
       " <td class=\"table-body__cell u-text-right rating\">13</td>\n",
       " </tr>,\n",
       " <tr class=\"table-body\" data-team-id=\"133\">\n",
       " <td class=\"table-body__cell table-body__cell--position u-text-right\">20</td>\n",
       " <td class=\"table-body__cell rankings-table__team\">\n",
       " <span class=\"flag-15 table-body_logo PNG\"></span>\n",
       " <span class=\"u-hide-phablet\">Papua New Guinea</span>\n",
       " <span class=\"u-show-phablet\">PNG</span>\n",
       " </td>\n",
       " <td class=\"table-body__cell u-center-text\">14</td>\n",
       " <td class=\"table-body__cell u-center-text\">0</td>\n",
       " <td class=\"table-body__cell u-text-right rating\">0</td>\n",
       " </tr>]"
      ]
     },
     "execution_count": 61,
     "metadata": {},
     "output_type": "execute_result"
    }
   ],
   "source": [
    "other_teams"
   ]
  },
  {
   "cell_type": "code",
   "execution_count": 62,
   "metadata": {},
   "outputs": [],
   "source": [
    "top_10=other_teams[10]"
   ]
  },
  {
   "cell_type": "code",
   "execution_count": 63,
   "metadata": {},
   "outputs": [
    {
     "data": {
      "text/plain": [
       "19"
      ]
     },
     "execution_count": 63,
     "metadata": {},
     "output_type": "execute_result"
    }
   ],
   "source": [
    "len(other_teams)"
   ]
  },
  {
   "cell_type": "code",
   "execution_count": 64,
   "metadata": {},
   "outputs": [],
   "source": [
    "for i in other_teams:\n",
    "    tea=i.find(\"span\",class_=\"u-hide-phablet\").text.replace('\\n',\"\")\n",
    "    team.append(tea)\n",
    "    rate=i.find(\"td\",class_=\"table-body__cell u-text-right rating\").text.replace('\\n',\"\")\n",
    "    ratings.append(rate)\n",
    "    rows = soup.find_all('td',class_=\"table-body__cell u-center-text\")\n",
    "    for inn in range(0,38,2):\n",
    "        mm=rows[inn].text\n",
    "        matches.append(mm)\n",
    "    for inn in range(1,38,2):\n",
    "        pp=rows[inn].text\n",
    "        points.append(pp)"
   ]
  },
  {
   "cell_type": "code",
   "execution_count": 67,
   "metadata": {},
   "outputs": [],
   "source": [
    "teams=team[0:10]\n",
    "matches=matches[0:10]\n",
    "ratings=ratings[0:10]\n",
    "points=points[0:10]"
   ]
  },
  {
   "cell_type": "code",
   "execution_count": 68,
   "metadata": {},
   "outputs": [],
   "source": [
    "data=list(zip(teams,matches,points,ratings))"
   ]
  },
  {
   "cell_type": "code",
   "execution_count": 69,
   "metadata": {},
   "outputs": [],
   "source": [
    "df=pd.DataFrame(data,columns=[\"Team Name\",\"Matches Played\",\"Points\",\"Ratings\"])"
   ]
  },
  {
   "cell_type": "code",
   "execution_count": 70,
   "metadata": {},
   "outputs": [
    {
     "data": {
      "text/html": [
       "<div>\n",
       "<style scoped>\n",
       "    .dataframe tbody tr th:only-of-type {\n",
       "        vertical-align: middle;\n",
       "    }\n",
       "\n",
       "    .dataframe tbody tr th {\n",
       "        vertical-align: top;\n",
       "    }\n",
       "\n",
       "    .dataframe thead th {\n",
       "        text-align: right;\n",
       "    }\n",
       "</style>\n",
       "<table border=\"1\" class=\"dataframe\">\n",
       "  <thead>\n",
       "    <tr style=\"text-align: right;\">\n",
       "      <th></th>\n",
       "      <th>Team Name</th>\n",
       "      <th>Matches Played</th>\n",
       "      <th>Points</th>\n",
       "      <th>Ratings</th>\n",
       "    </tr>\n",
       "  </thead>\n",
       "  <tbody>\n",
       "    <tr>\n",
       "      <th>0</th>\n",
       "      <td>England</td>\n",
       "      <td>44</td>\n",
       "      <td>5,405</td>\n",
       "      <td>123</td>\n",
       "    </tr>\n",
       "    <tr>\n",
       "      <th>1</th>\n",
       "      <td>India</td>\n",
       "      <td>52</td>\n",
       "      <td>6,102</td>\n",
       "      <td>117</td>\n",
       "    </tr>\n",
       "    <tr>\n",
       "      <th>2</th>\n",
       "      <td>New Zealand</td>\n",
       "      <td>32</td>\n",
       "      <td>3,716</td>\n",
       "      <td>116</td>\n",
       "    </tr>\n",
       "    <tr>\n",
       "      <th>3</th>\n",
       "      <td>Australia</td>\n",
       "      <td>39</td>\n",
       "      <td>4,344</td>\n",
       "      <td>111</td>\n",
       "    </tr>\n",
       "    <tr>\n",
       "      <th>4</th>\n",
       "      <td>South Africa</td>\n",
       "      <td>31</td>\n",
       "      <td>3,345</td>\n",
       "      <td>108</td>\n",
       "    </tr>\n",
       "    <tr>\n",
       "      <th>5</th>\n",
       "      <td>Pakistan</td>\n",
       "      <td>35</td>\n",
       "      <td>3,490</td>\n",
       "      <td>100</td>\n",
       "    </tr>\n",
       "    <tr>\n",
       "      <th>6</th>\n",
       "      <td>Bangladesh</td>\n",
       "      <td>37</td>\n",
       "      <td>3,366</td>\n",
       "      <td>91</td>\n",
       "    </tr>\n",
       "    <tr>\n",
       "      <th>7</th>\n",
       "      <td>Sri Lanka</td>\n",
       "      <td>39</td>\n",
       "      <td>3,297</td>\n",
       "      <td>85</td>\n",
       "    </tr>\n",
       "    <tr>\n",
       "      <th>8</th>\n",
       "      <td>West Indies</td>\n",
       "      <td>46</td>\n",
       "      <td>3,402</td>\n",
       "      <td>74</td>\n",
       "    </tr>\n",
       "    <tr>\n",
       "      <th>9</th>\n",
       "      <td>Afghanistan</td>\n",
       "      <td>31</td>\n",
       "      <td>1,844</td>\n",
       "      <td>59</td>\n",
       "    </tr>\n",
       "  </tbody>\n",
       "</table>\n",
       "</div>"
      ],
      "text/plain": [
       "      Team Name Matches Played Points Ratings\n",
       "0       England             44  5,405     123\n",
       "1         India             52  6,102     117\n",
       "2   New Zealand             32  3,716     116\n",
       "3     Australia             39  4,344     111\n",
       "4  South Africa             31  3,345     108\n",
       "5      Pakistan             35  3,490     100\n",
       "6    Bangladesh             37  3,366      91\n",
       "7     Sri Lanka             39  3,297      85\n",
       "8   West Indies             46  3,402      74\n",
       "9   Afghanistan             31  1,844      59"
      ]
     },
     "execution_count": 70,
     "metadata": {},
     "output_type": "execute_result"
    }
   ],
   "source": [
    "df"
   ]
  }
 ],
 "metadata": {
  "kernelspec": {
   "display_name": "Python 3",
   "language": "python",
   "name": "python3"
  },
  "language_info": {
   "codemirror_mode": {
    "name": "ipython",
    "version": 3
   },
   "file_extension": ".py",
   "mimetype": "text/x-python",
   "name": "python",
   "nbconvert_exporter": "python",
   "pygments_lexer": "ipython3",
   "version": "3.8.3"
  }
 },
 "nbformat": 4,
 "nbformat_minor": 4
}
