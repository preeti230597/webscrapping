{
 "cells": [
  {
   "cell_type": "code",
   "execution_count": 1,
   "metadata": {},
   "outputs": [],
   "source": [
    "import requests\n",
    "from requests import get\n",
    "from bs4 import BeautifulSoup\n",
    "import pandas as pd\n",
    "import numpy as np\n"
   ]
  },
  {
   "cell_type": "code",
   "execution_count": 134,
   "metadata": {},
   "outputs": [],
   "source": [
    "page1=requests.get(\"https://bookpage.com/reviews/25880-cherie-jones-how-one-armed-sister-sweeps-her-house-fiction#.YBz5zuhKjIU\")"
   ]
  },
  {
   "cell_type": "code",
   "execution_count": 135,
   "metadata": {},
   "outputs": [],
   "source": [
    "soup1=BeautifulSoup(page1.text, \"html.parser\")"
   ]
  },
  {
   "cell_type": "code",
   "execution_count": 136,
   "metadata": {},
   "outputs": [],
   "source": [
    "page2=requests.get('https://bookpage.com/reviews/25835-syed-m-masood-bad-muslim-discount-fiction#.YB0V7OhKjIU')"
   ]
  },
  {
   "cell_type": "code",
   "execution_count": 137,
   "metadata": {},
   "outputs": [],
   "source": [
    "soup2=BeautifulSoup(page2.text,\"html.parser\")"
   ]
  },
  {
   "cell_type": "code",
   "execution_count": 138,
   "metadata": {},
   "outputs": [],
   "source": [
    "page3=requests.get('https://bookpage.com/reviews/25896-dayna-lorentz-feather-childrens#.YB0asuhKjIU')"
   ]
  },
  {
   "cell_type": "code",
   "execution_count": 139,
   "metadata": {},
   "outputs": [],
   "source": [
    "soup3=BeautifulSoup(page3.text,\"html.parser\")"
   ]
  },
  {
   "cell_type": "code",
   "execution_count": 140,
   "metadata": {},
   "outputs": [],
   "source": [
    "page4=requests.get('https://bookpage.com/reviews/21400-gordon-korman-bullys-second-chance-childrens#.YB0a6ehKjIU')"
   ]
  },
  {
   "cell_type": "code",
   "execution_count": 141,
   "metadata": {},
   "outputs": [],
   "source": [
    "soup4=BeautifulSoup(page4.text,\"html.parser\")"
   ]
  },
  {
   "cell_type": "code",
   "execution_count": 142,
   "metadata": {},
   "outputs": [],
   "source": [
    "page5=requests.get('https://bookpage.com/reviews/25878-sarah-langan-good-neighbors-fiction#.YB0a1ehKjIU')"
   ]
  },
  {
   "cell_type": "code",
   "execution_count": 143,
   "metadata": {},
   "outputs": [],
   "source": [
    "soup5=BeautifulSoup(page5.text,\"html.parser\")"
   ]
  },
  {
   "cell_type": "code",
   "execution_count": 144,
   "metadata": {},
   "outputs": [],
   "source": [
    "book1=soup1.find(\"div\",class_='row-fluid book-details-hero')"
   ]
  },
  {
   "cell_type": "code",
   "execution_count": 145,
   "metadata": {},
   "outputs": [],
   "source": [
    "book2=soup2.find(\"div\",class_='row-fluid book-details-hero')"
   ]
  },
  {
   "cell_type": "code",
   "execution_count": 146,
   "metadata": {},
   "outputs": [],
   "source": [
    "book3=soup3.find(\"div\",class_='row-fluid book-details-hero')"
   ]
  },
  {
   "cell_type": "code",
   "execution_count": 147,
   "metadata": {},
   "outputs": [],
   "source": [
    "book4=soup4.find(\"div\",class_='row-fluid book-details-hero')"
   ]
  },
  {
   "cell_type": "code",
   "execution_count": 148,
   "metadata": {},
   "outputs": [],
   "source": [
    "book5=soup5.find(\"div\",class_='row-fluid book-details-hero')"
   ]
  },
  {
   "cell_type": "code",
   "execution_count": 181,
   "metadata": {},
   "outputs": [],
   "source": [
    "def book_reviews(book,soup):\n",
    "        b_name1=soup.find('h1',class_='italic').get_text().replace('\\n','')\n",
    "        author=soup.find('h4',class_='sans').get_text().replace('\\n','')\n",
    "        genre=soup.find('p',class_='genre-links').get_text().replace('\\n','')\n",
    "        review_=soup.find('div',class_='article-body').get_text().replace('\\n','')\n",
    "        return b_name1,author,genre,review_\n",
    "        "
   ]
  },
  {
   "cell_type": "code",
   "execution_count": 190,
   "metadata": {},
   "outputs": [],
   "source": [
    "Book1=book_reviews(book1,soup1)\n"
   ]
  },
  {
   "cell_type": "code",
   "execution_count": 191,
   "metadata": {},
   "outputs": [],
   "source": [
    "Book2=book_reviews(book2,soup2)\n"
   ]
  },
  {
   "cell_type": "code",
   "execution_count": 192,
   "metadata": {},
   "outputs": [],
   "source": [
    "Book3=book_reviews(book3,soup3)\n"
   ]
  },
  {
   "cell_type": "code",
   "execution_count": 203,
   "metadata": {},
   "outputs": [],
   "source": [
    "Book4=book_reviews(book4,soup4)\n"
   ]
  },
  {
   "cell_type": "code",
   "execution_count": 194,
   "metadata": {},
   "outputs": [],
   "source": [
    "Book5=book_reviews(book5,soup5)\n"
   ]
  },
  {
   "cell_type": "code",
   "execution_count": 200,
   "metadata": {},
   "outputs": [],
   "source": [
    "Book=[Book1,Book2,Book3,Book4,Book5]"
   ]
  },
  {
   "cell_type": "code",
   "execution_count": 201,
   "metadata": {},
   "outputs": [],
   "source": [
    "df=pd.DataFrame(Book,)"
   ]
  },
  {
   "cell_type": "code",
   "execution_count": 202,
   "metadata": {
    "scrolled": false
   },
   "outputs": [
    {
     "data": {
      "text/html": [
       "<div>\n",
       "<style scoped>\n",
       "    .dataframe tbody tr th:only-of-type {\n",
       "        vertical-align: middle;\n",
       "    }\n",
       "\n",
       "    .dataframe tbody tr th {\n",
       "        vertical-align: top;\n",
       "    }\n",
       "\n",
       "    .dataframe thead th {\n",
       "        text-align: right;\n",
       "    }\n",
       "</style>\n",
       "<table border=\"1\" class=\"dataframe\">\n",
       "  <thead>\n",
       "    <tr style=\"text-align: right;\">\n",
       "      <th></th>\n",
       "      <th>0</th>\n",
       "      <th>1</th>\n",
       "      <th>2</th>\n",
       "      <th>3</th>\n",
       "    </tr>\n",
       "  </thead>\n",
       "  <tbody>\n",
       "    <tr>\n",
       "      <th>0</th>\n",
       "      <td>How the One-Armed Sister Sweeps Her House</td>\n",
       "      <td>Cherie Jones</td>\n",
       "      <td>Fiction / Literary Fiction</td>\n",
       "      <td>In her engrossing and darkly lyrical debut nov...</td>\n",
       "    </tr>\n",
       "    <tr>\n",
       "      <th>1</th>\n",
       "      <td>The Bad Muslim Discount</td>\n",
       "      <td>Syed M. Masood</td>\n",
       "      <td>Fiction / Coming of Age</td>\n",
       "      <td>The Bad Muslim Discount starts off in darkly c...</td>\n",
       "    </tr>\n",
       "    <tr>\n",
       "      <th>2</th>\n",
       "      <td>Of a Feather</td>\n",
       "      <td>Dayna Lorentz</td>\n",
       "      <td>Children's / Middle Grade</td>\n",
       "      <td>Rufus the great horned owl is the self-declare...</td>\n",
       "    </tr>\n",
       "    <tr>\n",
       "      <th>3</th>\n",
       "      <td>Restart</td>\n",
       "      <td>Gordon Korman</td>\n",
       "      <td>Children's / Children's Chapter</td>\n",
       "      <td>Award-winning author Gordon Korman has a knack...</td>\n",
       "    </tr>\n",
       "    <tr>\n",
       "      <th>4</th>\n",
       "      <td>Good Neighbors</td>\n",
       "      <td>Sarah Langan</td>\n",
       "      <td>Fiction / Popular Fiction</td>\n",
       "      <td>In this disquieting tale by three-time Bram St...</td>\n",
       "    </tr>\n",
       "  </tbody>\n",
       "</table>\n",
       "</div>"
      ],
      "text/plain": [
       "                                           0               1  \\\n",
       "0  How the One-Armed Sister Sweeps Her House    Cherie Jones   \n",
       "1                    The Bad Muslim Discount  Syed M. Masood   \n",
       "2                               Of a Feather   Dayna Lorentz   \n",
       "3                                    Restart   Gordon Korman   \n",
       "4                             Good Neighbors    Sarah Langan   \n",
       "\n",
       "                                 2  \\\n",
       "0       Fiction / Literary Fiction   \n",
       "1          Fiction / Coming of Age   \n",
       "2        Children's / Middle Grade   \n",
       "3  Children's / Children's Chapter   \n",
       "4        Fiction / Popular Fiction   \n",
       "\n",
       "                                                   3  \n",
       "0  In her engrossing and darkly lyrical debut nov...  \n",
       "1  The Bad Muslim Discount starts off in darkly c...  \n",
       "2  Rufus the great horned owl is the self-declare...  \n",
       "3  Award-winning author Gordon Korman has a knack...  \n",
       "4  In this disquieting tale by three-time Bram St...  "
      ]
     },
     "execution_count": 202,
     "metadata": {},
     "output_type": "execute_result"
    }
   ],
   "source": [
    "df.head()"
   ]
  },
  {
   "cell_type": "code",
   "execution_count": 226,
   "metadata": {
    "scrolled": true
   },
   "outputs": [],
   "source": [
    "df.rename(columns={0:\"Book Name\",1:\"Author\",2:\"Genre\",3:\"Review\"},inplace=True)"
   ]
  },
  {
   "cell_type": "code",
   "execution_count": 228,
   "metadata": {},
   "outputs": [
    {
     "data": {
      "text/html": [
       "<div>\n",
       "<style scoped>\n",
       "    .dataframe tbody tr th:only-of-type {\n",
       "        vertical-align: middle;\n",
       "    }\n",
       "\n",
       "    .dataframe tbody tr th {\n",
       "        vertical-align: top;\n",
       "    }\n",
       "\n",
       "    .dataframe thead th {\n",
       "        text-align: right;\n",
       "    }\n",
       "</style>\n",
       "<table border=\"1\" class=\"dataframe\">\n",
       "  <thead>\n",
       "    <tr style=\"text-align: right;\">\n",
       "      <th></th>\n",
       "      <th>Book Name</th>\n",
       "      <th>Author</th>\n",
       "      <th>Genre</th>\n",
       "      <th>Review</th>\n",
       "    </tr>\n",
       "  </thead>\n",
       "  <tbody>\n",
       "    <tr>\n",
       "      <th>0</th>\n",
       "      <td>How the One-Armed Sister Sweeps Her House</td>\n",
       "      <td>Cherie Jones</td>\n",
       "      <td>Fiction / Literary Fiction</td>\n",
       "      <td>In her engrossing and darkly lyrical debut nov...</td>\n",
       "    </tr>\n",
       "    <tr>\n",
       "      <th>1</th>\n",
       "      <td>The Bad Muslim Discount</td>\n",
       "      <td>Syed M. Masood</td>\n",
       "      <td>Fiction / Coming of Age</td>\n",
       "      <td>The Bad Muslim Discount starts off in darkly c...</td>\n",
       "    </tr>\n",
       "    <tr>\n",
       "      <th>2</th>\n",
       "      <td>Of a Feather</td>\n",
       "      <td>Dayna Lorentz</td>\n",
       "      <td>Children's / Middle Grade</td>\n",
       "      <td>Rufus the great horned owl is the self-declare...</td>\n",
       "    </tr>\n",
       "    <tr>\n",
       "      <th>3</th>\n",
       "      <td>Restart</td>\n",
       "      <td>Gordon Korman</td>\n",
       "      <td>Children's / Children's Chapter</td>\n",
       "      <td>Award-winning author Gordon Korman has a knack...</td>\n",
       "    </tr>\n",
       "    <tr>\n",
       "      <th>4</th>\n",
       "      <td>Good Neighbors</td>\n",
       "      <td>Sarah Langan</td>\n",
       "      <td>Fiction / Popular Fiction</td>\n",
       "      <td>In this disquieting tale by three-time Bram St...</td>\n",
       "    </tr>\n",
       "  </tbody>\n",
       "</table>\n",
       "</div>"
      ],
      "text/plain": [
       "                                   Book Name          Author  \\\n",
       "0  How the One-Armed Sister Sweeps Her House    Cherie Jones   \n",
       "1                    The Bad Muslim Discount  Syed M. Masood   \n",
       "2                               Of a Feather   Dayna Lorentz   \n",
       "3                                    Restart   Gordon Korman   \n",
       "4                             Good Neighbors    Sarah Langan   \n",
       "\n",
       "                             Genre  \\\n",
       "0       Fiction / Literary Fiction   \n",
       "1          Fiction / Coming of Age   \n",
       "2        Children's / Middle Grade   \n",
       "3  Children's / Children's Chapter   \n",
       "4        Fiction / Popular Fiction   \n",
       "\n",
       "                                              Review  \n",
       "0  In her engrossing and darkly lyrical debut nov...  \n",
       "1  The Bad Muslim Discount starts off in darkly c...  \n",
       "2  Rufus the great horned owl is the self-declare...  \n",
       "3  Award-winning author Gordon Korman has a knack...  \n",
       "4  In this disquieting tale by three-time Bram St...  "
      ]
     },
     "execution_count": 228,
     "metadata": {},
     "output_type": "execute_result"
    }
   ],
   "source": [
    "df"
   ]
  }
 ],
 "metadata": {
  "kernelspec": {
   "display_name": "Python 3",
   "language": "python",
   "name": "python3"
  },
  "language_info": {
   "codemirror_mode": {
    "name": "ipython",
    "version": 3
   },
   "file_extension": ".py",
   "mimetype": "text/x-python",
   "name": "python",
   "nbconvert_exporter": "python",
   "pygments_lexer": "ipython3",
   "version": "3.8.3"
  }
 },
 "nbformat": 4,
 "nbformat_minor": 4
}
