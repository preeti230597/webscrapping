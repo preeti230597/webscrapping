{
 "cells": [
  {
   "cell_type": "code",
   "execution_count": 1,
   "metadata": {},
   "outputs": [],
   "source": [
    "from bs4 import BeautifulSoup\n",
    "import requests\n",
    "\n",
    "amazon_text=(\"https://www.amazon.in/s?k=mobile&rh=p_36%3A-2000000&page=2&qid=1612693522&rnid=1318502031&ref=sr_pg_\")\n"
   ]
  },
  {
   "cell_type": "code",
   "execution_count": 10,
   "metadata": {},
   "outputs": [],
   "source": [
    "product=[]\n",
    "price=[]\n",
    "rating=[]\n",
    "for page in range(1,200):\n",
    "    page=1\n",
    "    req=requests.get(amazon_text+str(page))\n",
    "    soup=BeautifulSoup(req.text,\"lxml\")\n",
    "    for d in soup.findAll('div', attrs={'class':'a-section a-spacing-medium'}):\n",
    "        product.append(d.find('span', attrs={'class':'a-size-medium a-color-base a-text-normal'}))\n",
    "        price.append(d.find('span', attrs={'class':'a-price-whole'}))\n",
    "        rating.append(d.find('span', attrs={'class':'a-size-base'}))\n",
    "        \n",
    "    "
   ]
  },
  {
   "cell_type": "code",
   "execution_count": 11,
   "metadata": {},
   "outputs": [],
   "source": [
    "data=list(zip(product,price,rating))"
   ]
  },
  {
   "cell_type": "code",
   "execution_count": 12,
   "metadata": {},
   "outputs": [],
   "source": [
    "import pandas as pd\n",
    "df=pd.DataFrame(data,columns=[\"Name\",\"Price\",\"rating\"])"
   ]
  },
  {
   "cell_type": "code",
   "execution_count": 13,
   "metadata": {},
   "outputs": [
    {
     "data": {
      "text/html": [
       "<div>\n",
       "<style scoped>\n",
       "    .dataframe tbody tr th:only-of-type {\n",
       "        vertical-align: middle;\n",
       "    }\n",
       "\n",
       "    .dataframe tbody tr th {\n",
       "        vertical-align: top;\n",
       "    }\n",
       "\n",
       "    .dataframe thead th {\n",
       "        text-align: right;\n",
       "    }\n",
       "</style>\n",
       "<table border=\"1\" class=\"dataframe\">\n",
       "  <thead>\n",
       "    <tr style=\"text-align: right;\">\n",
       "      <th></th>\n",
       "      <th>Name</th>\n",
       "      <th>Price</th>\n",
       "      <th>rating</th>\n",
       "    </tr>\n",
       "  </thead>\n",
       "  <tbody>\n",
       "    <tr>\n",
       "      <th>0</th>\n",
       "      <td>[Samsung Galaxy M01 Core (Blue, 1GB RAM, 16GB ...</td>\n",
       "      <td>[4,999]</td>\n",
       "      <td>[8,614]</td>\n",
       "    </tr>\n",
       "    <tr>\n",
       "      <th>1</th>\n",
       "      <td>[Vivo Y91i (Ocean Blue, 3GB RAM, 32GB Storage)...</td>\n",
       "      <td>[8,490]</td>\n",
       "      <td>[702]</td>\n",
       "    </tr>\n",
       "    <tr>\n",
       "      <th>2</th>\n",
       "      <td>[Vivo Y51 (Titanium Sapphire, 8GB RAM, 128GB R...</td>\n",
       "      <td>[17,990]</td>\n",
       "      <td>[94]</td>\n",
       "    </tr>\n",
       "    <tr>\n",
       "      <th>3</th>\n",
       "      <td>[Redmi Note 9 (Arctic White, 6GB RAM 128GB Sto...</td>\n",
       "      <td>[13,999]</td>\n",
       "      <td>[26,047]</td>\n",
       "    </tr>\n",
       "    <tr>\n",
       "      <th>4</th>\n",
       "      <td>[Samsung Galaxy M21 (Raven Black, 4GB RAM, 64G...</td>\n",
       "      <td>[13,999]</td>\n",
       "      <td>[87,376]</td>\n",
       "    </tr>\n",
       "    <tr>\n",
       "      <th>...</th>\n",
       "      <td>...</td>\n",
       "      <td>...</td>\n",
       "      <td>...</td>\n",
       "    </tr>\n",
       "    <tr>\n",
       "      <th>491</th>\n",
       "      <td>[I KALL K250 Smartphone (6.53HD+, 4GB, 64GB, 4...</td>\n",
       "      <td>[6,599]</td>\n",
       "      <td>[2]</td>\n",
       "    </tr>\n",
       "    <tr>\n",
       "      <th>492</th>\n",
       "      <td>[Vivo Y91i (Black, 3GB RAM, 32GB Storage) with...</td>\n",
       "      <td>[8,490]</td>\n",
       "      <td>[702]</td>\n",
       "    </tr>\n",
       "    <tr>\n",
       "      <th>493</th>\n",
       "      <td>[I KALL K700 4G Mobile with 6.26 Inch Display ...</td>\n",
       "      <td>[5,299]</td>\n",
       "      <td>[1]</td>\n",
       "    </tr>\n",
       "    <tr>\n",
       "      <th>494</th>\n",
       "      <td>[Redmi 8A Dual (Midnight Grey, 3GB RAM, 64GB S...</td>\n",
       "      <td>None</td>\n",
       "      <td>[34,566]</td>\n",
       "    </tr>\n",
       "    <tr>\n",
       "      <th>495</th>\n",
       "      <td>[itel A47 (Cosmic Purple, 2GB RAM, 32GB Storag...</td>\n",
       "      <td>[5,499]</td>\n",
       "      <td>None</td>\n",
       "    </tr>\n",
       "  </tbody>\n",
       "</table>\n",
       "<p>496 rows × 3 columns</p>\n",
       "</div>"
      ],
      "text/plain": [
       "                                                  Name     Price    rating\n",
       "0    [Samsung Galaxy M01 Core (Blue, 1GB RAM, 16GB ...   [4,999]   [8,614]\n",
       "1    [Vivo Y91i (Ocean Blue, 3GB RAM, 32GB Storage)...   [8,490]     [702]\n",
       "2    [Vivo Y51 (Titanium Sapphire, 8GB RAM, 128GB R...  [17,990]      [94]\n",
       "3    [Redmi Note 9 (Arctic White, 6GB RAM 128GB Sto...  [13,999]  [26,047]\n",
       "4    [Samsung Galaxy M21 (Raven Black, 4GB RAM, 64G...  [13,999]  [87,376]\n",
       "..                                                 ...       ...       ...\n",
       "491  [I KALL K250 Smartphone (6.53HD+, 4GB, 64GB, 4...   [6,599]       [2]\n",
       "492  [Vivo Y91i (Black, 3GB RAM, 32GB Storage) with...   [8,490]     [702]\n",
       "493  [I KALL K700 4G Mobile with 6.26 Inch Display ...   [5,299]       [1]\n",
       "494  [Redmi 8A Dual (Midnight Grey, 3GB RAM, 64GB S...      None  [34,566]\n",
       "495  [itel A47 (Cosmic Purple, 2GB RAM, 32GB Storag...   [5,499]      None\n",
       "\n",
       "[496 rows x 3 columns]"
      ]
     },
     "execution_count": 13,
     "metadata": {},
     "output_type": "execute_result"
    }
   ],
   "source": [
    "df"
   ]
  },
  {
   "cell_type": "code",
   "execution_count": null,
   "metadata": {},
   "outputs": [],
   "source": []
  }
 ],
 "metadata": {
  "kernelspec": {
   "display_name": "Python 3",
   "language": "python",
   "name": "python3"
  },
  "language_info": {
   "codemirror_mode": {
    "name": "ipython",
    "version": 3
   },
   "file_extension": ".py",
   "mimetype": "text/x-python",
   "name": "python",
   "nbconvert_exporter": "python",
   "pygments_lexer": "ipython3",
   "version": "3.8.5"
  }
 },
 "nbformat": 4,
 "nbformat_minor": 4
}
