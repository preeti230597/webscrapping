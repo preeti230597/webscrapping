{
 "cells": [
  {
   "cell_type": "code",
   "execution_count": 220,
   "metadata": {},
   "outputs": [],
   "source": [
    "import requests\n",
    "from requests import get\n",
    "from bs4 import BeautifulSoup\n",
    "import pandas as pd\n",
    "import numpy as np\n"
   ]
  },
  {
   "cell_type": "code",
   "execution_count": 221,
   "metadata": {},
   "outputs": [],
   "source": [
    "page=requests.get(\"https://www.icc-cricket.com/rankings/mens/player-rankings/odi/batting\")"
   ]
  },
  {
   "cell_type": "code",
   "execution_count": 222,
   "metadata": {},
   "outputs": [],
   "source": [
    "soup=BeautifulSoup(page.text,'html.parser')"
   ]
  },
  {
   "cell_type": "code",
   "execution_count": 223,
   "metadata": {},
   "outputs": [],
   "source": [
    "players=[]\n",
    "team=[]\n",
    "ratings=[]\n"
   ]
  },
  {
   "cell_type": "code",
   "execution_count": 224,
   "metadata": {},
   "outputs": [],
   "source": [
    "one=soup.find_all('tr', {'class':'rankings-block__banner'})"
   ]
  },
  {
   "cell_type": "code",
   "execution_count": 225,
   "metadata": {},
   "outputs": [
    {
     "data": {
      "text/plain": [
       "[<tr class=\"rankings-block__banner\">\n",
       " <td class=\"rankings-block__position\">1</td>\n",
       " <td class=\"rankings-block__top-player-container\">\n",
       " <div class=\"u-flex-center u-text-left\">\n",
       " <div class=\"rankings-block__player-image-container rankings-block__player-image-container--large\">\n",
       " <a href=\"/rankings/mens/player-rankings/164\">\n",
       " <img alt=\"Player Image\" class=\"rankings-block__player-image image-missing\" data-error=\"true\" data-player=\"164\" data-size=\"130x150\" data-widget=\"player-image\" src=\"//resources.pulse.icc-cricket.com/players/130x150/Photo-Missing.png\"/>\n",
       " </a>\n",
       " </div>\n",
       " <div>\n",
       " <a href=\"/rankings/mens/player-rankings/164\"><div class=\"rankings-block__banner--name-large\">Virat Kohli</div></a>\n",
       " </div>\n",
       " </div>\n",
       " </td>\n",
       " <td>\n",
       " <div class=\"rankings-block__banner--nationality\">\n",
       " <div class=\"flag-15 IND\"></div>\n",
       " <span class=\"rankings-block__banner--nation\"></span>IND</div></td></tr>]"
      ]
     },
     "execution_count": 225,
     "metadata": {},
     "output_type": "execute_result"
    }
   ],
   "source": [
    "one"
   ]
  },
  {
   "cell_type": "code",
   "execution_count": 226,
   "metadata": {},
   "outputs": [],
   "source": [
    "first=one[0]"
   ]
  },
  {
   "cell_type": "code",
   "execution_count": 227,
   "metadata": {},
   "outputs": [],
   "source": [
    "t=first.find(\"div\",class_=\"rankings-block__banner--name-large\").text.replace('\\n',\"\")\n",
    "players.append(t)"
   ]
  },
  {
   "cell_type": "code",
   "execution_count": 228,
   "metadata": {},
   "outputs": [],
   "source": [
    "c=first.find(\"div\",class_=\"rankings-block__banner--nationality\").text.replace('\\n',\"\")\n",
    "team.append(c)\n"
   ]
  },
  {
   "cell_type": "code",
   "execution_count": 229,
   "metadata": {},
   "outputs": [],
   "source": [
    "k=soup.find(\"div\",class_=\"rankings-block__banner--rating\").text\n",
    "\n",
    "ratings.append(k)"
   ]
  },
  {
   "cell_type": "code",
   "execution_count": 230,
   "metadata": {},
   "outputs": [],
   "source": [
    "play=soup.find_all(\"tr\", class_=\"table-body\")"
   ]
  },
  {
   "cell_type": "code",
   "execution_count": 231,
   "metadata": {},
   "outputs": [],
   "source": [
    "for i in play:\n",
    "    n=i.find(\"td\",class_=\"table-body__cell rankings-table__name name\").text.replace('\\n',\"\")\n",
    "    players.append(n)\n",
    "    t=i.find(\"td\",class_=\"table-body__cell nationality-logo rankings-table__team\").text.replace('\\n',\"\")\n",
    "    team.append(t)\n",
    "    r=i.find(\"td\",class_=\"table-body__cell rating\").text.replace('\\n',\"\")\n",
    "    ratings.append(r)\n"
   ]
  },
  {
   "cell_type": "code",
   "execution_count": 232,
   "metadata": {},
   "outputs": [],
   "source": [
    "players=players[0:10]\n",
    "team=team[0:10]\n",
    "ratings=ratings[0:10]"
   ]
  },
  {
   "cell_type": "code",
   "execution_count": 233,
   "metadata": {},
   "outputs": [],
   "source": [
    "data=list(zip(players,team,ratings))"
   ]
  },
  {
   "cell_type": "code",
   "execution_count": 234,
   "metadata": {},
   "outputs": [],
   "source": [
    "df=pd.DataFrame(data,columns=[\"Player\",\"Country\",\"Rating\"])"
   ]
  },
  {
   "cell_type": "code",
   "execution_count": 236,
   "metadata": {},
   "outputs": [
    {
     "data": {
      "text/html": [
       "<div>\n",
       "<style scoped>\n",
       "    .dataframe tbody tr th:only-of-type {\n",
       "        vertical-align: middle;\n",
       "    }\n",
       "\n",
       "    .dataframe tbody tr th {\n",
       "        vertical-align: top;\n",
       "    }\n",
       "\n",
       "    .dataframe thead th {\n",
       "        text-align: right;\n",
       "    }\n",
       "</style>\n",
       "<table border=\"1\" class=\"dataframe\">\n",
       "  <thead>\n",
       "    <tr style=\"text-align: right;\">\n",
       "      <th></th>\n",
       "      <th>Player</th>\n",
       "      <th>Country</th>\n",
       "      <th>Rating</th>\n",
       "    </tr>\n",
       "  </thead>\n",
       "  <tbody>\n",
       "    <tr>\n",
       "      <th>0</th>\n",
       "      <td>Virat Kohli</td>\n",
       "      <td>IND</td>\n",
       "      <td>870</td>\n",
       "    </tr>\n",
       "    <tr>\n",
       "      <th>1</th>\n",
       "      <td>Rohit Sharma</td>\n",
       "      <td>IND</td>\n",
       "      <td>842</td>\n",
       "    </tr>\n",
       "    <tr>\n",
       "      <th>2</th>\n",
       "      <td>Babar Azam</td>\n",
       "      <td>PAK</td>\n",
       "      <td>837</td>\n",
       "    </tr>\n",
       "    <tr>\n",
       "      <th>3</th>\n",
       "      <td>Ross Taylor</td>\n",
       "      <td>NZ</td>\n",
       "      <td>818</td>\n",
       "    </tr>\n",
       "    <tr>\n",
       "      <th>4</th>\n",
       "      <td>Aaron Finch</td>\n",
       "      <td>AUS</td>\n",
       "      <td>791</td>\n",
       "    </tr>\n",
       "    <tr>\n",
       "      <th>5</th>\n",
       "      <td>Francois du Plessis</td>\n",
       "      <td>SA</td>\n",
       "      <td>790</td>\n",
       "    </tr>\n",
       "    <tr>\n",
       "      <th>6</th>\n",
       "      <td>David Warner</td>\n",
       "      <td>AUS</td>\n",
       "      <td>773</td>\n",
       "    </tr>\n",
       "    <tr>\n",
       "      <th>7</th>\n",
       "      <td>Kane Williamson</td>\n",
       "      <td>NZ</td>\n",
       "      <td>765</td>\n",
       "    </tr>\n",
       "    <tr>\n",
       "      <th>8</th>\n",
       "      <td>Quinton de Kock</td>\n",
       "      <td>SA</td>\n",
       "      <td>755</td>\n",
       "    </tr>\n",
       "    <tr>\n",
       "      <th>9</th>\n",
       "      <td>Jonny Bairstow</td>\n",
       "      <td>ENG</td>\n",
       "      <td>754</td>\n",
       "    </tr>\n",
       "  </tbody>\n",
       "</table>\n",
       "</div>"
      ],
      "text/plain": [
       "                Player Country Rating\n",
       "0          Virat Kohli     IND    870\n",
       "1         Rohit Sharma     IND    842\n",
       "2           Babar Azam     PAK    837\n",
       "3          Ross Taylor      NZ    818\n",
       "4          Aaron Finch     AUS    791\n",
       "5  Francois du Plessis      SA    790\n",
       "6         David Warner     AUS    773\n",
       "7      Kane Williamson      NZ    765\n",
       "8      Quinton de Kock      SA    755\n",
       "9       Jonny Bairstow     ENG    754"
      ]
     },
     "execution_count": 236,
     "metadata": {},
     "output_type": "execute_result"
    }
   ],
   "source": [
    "df"
   ]
  },
  {
   "cell_type": "code",
   "execution_count": null,
   "metadata": {},
   "outputs": [],
   "source": []
  }
 ],
 "metadata": {
  "kernelspec": {
   "display_name": "Python 3",
   "language": "python",
   "name": "python3"
  },
  "language_info": {
   "codemirror_mode": {
    "name": "ipython",
    "version": 3
   },
   "file_extension": ".py",
   "mimetype": "text/x-python",
   "name": "python",
   "nbconvert_exporter": "python",
   "pygments_lexer": "ipython3",
   "version": "3.8.3"
  }
 },
 "nbformat": 4,
 "nbformat_minor": 4
}
